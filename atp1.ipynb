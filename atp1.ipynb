{
 "cells": [
  {
   "cell_type": "code",
   "execution_count": 4,
   "metadata": {},
   "outputs": [],
   "source": [
    "import matplotlib.pyplot as plt\n",
    "import numpy as np\n",
    "e = np.e"
   ]
  },
  {
   "cell_type": "markdown",
   "metadata": {},
   "source": [
    "Task 1\n"
   ]
  },
  {
   "cell_type": "code",
   "execution_count": null,
   "metadata": {},
   "outputs": [],
   "source": [
    "def ponto_fixo(f, x0, tol, max_it):\n",
    "    '''\n",
    "    Método do ponto fixo\n",
    "    :param f: função\n",
    "    :param x0: aproximação inicial\n",
    "    :param tol: tolerância\n",
    "    :param max_it: número máximo de iterações\n",
    "    \n",
    "    :return: raiz, número de iterações\n",
    "    '''\n",
    "    x = x0\n",
    "    for i in range(max_it):\n",
    "        x = f(x)\n",
    "        if abs(f(x)) < tol:\n",
    "            return x, i\n",
    "    return x\n",
    "\n",
    "def newton(x0, f, df):\n",
    "    '''\n",
    "    Método de Newton\n",
    "    :param x0: aproximação inicial\n",
    "    :param f: função\n",
    "    :param df: derivada da função\n",
    "\n",
    "    :return: raiz, número de iterações\n",
    "    '''\n",
    "    "
   ]
  }
 ],
 "metadata": {
  "kernelspec": {
   "display_name": "Python 3",
   "language": "python",
   "name": "python3"
  },
  "language_info": {
   "codemirror_mode": {
    "name": "ipython",
    "version": 3
   },
   "file_extension": ".py",
   "mimetype": "text/x-python",
   "name": "python",
   "nbconvert_exporter": "python",
   "pygments_lexer": "ipython3",
   "version": "3.10.4"
  },
  "orig_nbformat": 4
 },
 "nbformat": 4,
 "nbformat_minor": 2
}
