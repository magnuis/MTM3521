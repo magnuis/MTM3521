{
 "cells": [
  {
   "cell_type": "code",
   "execution_count": 16,
   "metadata": {},
   "outputs": [],
   "source": [
    "# preamble\n",
    "\n",
    "import matplotlib.pyplot as plt\n",
    "from scipy import integrate\n",
    "import numpy as np\n",
    "e = np.e\n",
    "pi = np.pi"
   ]
  },
  {
   "cell_type": "code",
   "execution_count": 17,
   "metadata": {},
   "outputs": [],
   "source": [
    "# warnings\n",
    "\n",
    "import warnings\n",
    "warnings.filterwarnings('ignore') # comment if u want to see the warnings"
   ]
  },
  {
   "cell_type": "markdown",
   "metadata": {},
   "source": [
    "## ATP1 (30/8)"
   ]
  },
  {
   "cell_type": "code",
   "execution_count": 18,
   "metadata": {},
   "outputs": [],
   "source": [
    "# generic functions\n",
    "\n",
    "def derivative(func, x):\n",
    "\n",
    "    h = 1e-10\n",
    "\n",
    "    return (func(x + h) - func(x))/h\n",
    "\n",
    "def calculate_L(func, min_interval, max_interval):\n",
    "\n",
    "    interval = [min_interval, max_interval]\n",
    "    max_derivative = max(abs(derivative(func, x)) for x in interval)\n",
    "\n",
    "    return max_derivative\n",
    "\n",
    "def calculate_m(func, min_interval, max_interval):\n",
    "\n",
    "    interval = [min_interval, max_interval]\n",
    "    min_derivative = min(abs(derivative(func, x)) for x in interval)\n",
    "\n",
    "    return min_derivative"
   ]
  },
  {
   "cell_type": "code",
   "execution_count": 19,
   "metadata": {},
   "outputs": [],
   "source": [
    "# fixed point method\n",
    "\n",
    "def fixed_point(func, \n",
    "                min_interval, \n",
    "                max_interval, \n",
    "                delta, \n",
    "                max_iterations):\n",
    "    ''' \n",
    "    initial guess is (min_interval+max_interval)/2\n",
    "    '''\n",
    "    x = (min_interval+max_interval)/2.0\n",
    "    L = calculate_L(func, min_interval, max_interval)\n",
    "    eps = ((1 - L)/L)*delta\n",
    "\n",
    "    for i in range(1, max_iterations):\n",
    "        x_next = func(x)\n",
    "        if abs(x_next - x) < eps:\n",
    "            return x_next, i\n",
    "        x = x_next\n",
    "        \n",
    "    return x, -1"
   ]
  },
  {
   "cell_type": "code",
   "execution_count": 20,
   "metadata": {},
   "outputs": [],
   "source": [
    "# newton's method\n",
    "\n",
    "def newton(g, \n",
    "            dg, \n",
    "            min_interval, \n",
    "            max_interval, \n",
    "            delta, \n",
    "            max_iterations):\n",
    "    ''' \n",
    "    initial guess is (min_interval+max_interval)/2\n",
    "    '''\n",
    "    x = (min_interval+max_interval)/2.0\n",
    "    m = calculate_m(g, min_interval, max_interval)\n",
    "    M = calculate_L(dg, min_interval, max_interval)\n",
    "    eps = np.sqrt(((2*m)/M)*delta)\n",
    "\n",
    "    for i in range(1, max_iterations):\n",
    "        x_next = x-g(x)/dg(x)\n",
    "        if abs(x_next - x) < eps:\n",
    "            return x_next, i\n",
    "        x = x_next\n",
    "        \n",
    "    return x, -1"
   ]
  },
  {
   "cell_type": "code",
   "execution_count": 66,
   "metadata": {},
   "outputs": [],
   "source": [
    "# bisection method\n",
    "\n",
    "def bisection(func, min_interval, max_interval, delta, max_iterations):\n",
    "\n",
    "    for i in range(max_iterations):\n",
    "        a = min_interval\n",
    "        b = max_interval\n",
    "        c = (a+b)/2.0\n",
    "        if func(c) == 0 or (b-a)/2.0 < delta:\n",
    "            return c, i\n",
    "        if func(c)*func(a) < 0:\n",
    "            b = c\n",
    "        else:\n",
    "            a = c\n",
    "    return (a+b)/2.0"
   ]
  },
  {
   "cell_type": "markdown",
   "metadata": {},
   "source": [
    "### Question 1"
   ]
  },
  {
   "cell_type": "code",
   "execution_count": 21,
   "metadata": {},
   "outputs": [],
   "source": [
    "# question function\n",
    "\n",
    "def f(x):\n",
    "    return x*e**(x/2)-1.2*x-5\n",
    "\n",
    "def df(x):\n",
    "    return e**(x/2)+(x/2)*e**(x/2)-1.2\n",
    "\n",
    "# iteration functions\n",
    "\n",
    "def phi_a(x):\n",
    "    return 5/(e**(x/2)-1.2)\n",
    "\n",
    "def phi_b(x):\n",
    "    return (1.2*x+5)/(e**(x/2))\n",
    "\n",
    "def phi_c(x):\n",
    "    return x*(e**(x/2)-0.2)-5"
   ]
  },
  {
   "cell_type": "code",
   "execution_count": 22,
   "metadata": {},
   "outputs": [],
   "source": [
    "# test parameters for phi_b\n",
    "\n",
    "min_interval = 2.1\n",
    "max_interval = 4\n",
    "delta = 5*10**(-4)\n",
    "max_iterations = 10000"
   ]
  },
  {
   "cell_type": "code",
   "execution_count": 23,
   "metadata": {},
   "outputs": [
    {
     "data": {
      "text/plain": [
       "(0.8958389585700388, 1.3262857757188047, 2.631531873315888)"
      ]
     },
     "execution_count": 23,
     "metadata": {},
     "output_type": "execute_result"
    }
   ],
   "source": [
    "# phi_b satisfies fixed_point condition and L condition\n",
    "\n",
    "L = calculate_L(phi_b, min_interval, max_interval)\n",
    "m = min(phi_b(x) for x in [min_interval,max_interval])\n",
    "M = max(phi_b(x) for x in [min_interval,max_interval])\n",
    "\n",
    "L, m, M"
   ]
  },
  {
   "cell_type": "code",
   "execution_count": 24,
   "metadata": {},
   "outputs": [
    {
     "name": "stdout",
     "output_type": "stream",
     "text": [
      "The root 2.38547025216842 was found with 54 iterations.\n"
     ]
    }
   ],
   "source": [
    "# root with fixed point method\n",
    "\n",
    "root, i = fixed_point(func=phi_b, \n",
    "                      min_interval=min_interval, \n",
    "                      max_interval=max_interval, \n",
    "                      delta=delta, \n",
    "                      max_iterations=max_iterations)\n",
    "\n",
    "print(f\"The root {root} was found with {i} iterations.\")"
   ]
  },
  {
   "cell_type": "code",
   "execution_count": 25,
   "metadata": {},
   "outputs": [
    {
     "name": "stdout",
     "output_type": "stream",
     "text": [
      "The root 2.3854827235536455 was found with 3 iterations.\n"
     ]
    }
   ],
   "source": [
    "# root with newton's method\n",
    "\n",
    "root, i = newton(g=f, \n",
    "                 dg=df, \n",
    "                 min_interval=min_interval, \n",
    "                 max_interval=max_interval, \n",
    "                 delta=delta, \n",
    "                 max_iterations=max_iterations)\n",
    "\n",
    "print(f\"The root {root} was found with {i} iterations.\")"
   ]
  },
  {
   "cell_type": "code",
   "execution_count": 26,
   "metadata": {},
   "outputs": [
    {
     "data": {
      "image/png": "[encoded data removed]",
      "text/plain": [
       "<Figure size 432x288 with 1 Axes>"
      ]
     },
     "metadata": {
      "needs_background": "light"
     },
     "output_type": "display_data"
    }
   ],
   "source": [
    "# plot question 1\n",
    "\n",
    "x = np.arange(-2, 3.5, 0.01)\n",
    "y = [f(x) for x in x]\n",
    "\n",
    "df = [derivative(f, x) for x in x]\n",
    "\n",
    "plt.axhline(0, color='black', linewidth=1)\n",
    "plt.axvline(0, color='black', linewidth=1)\n",
    "\n",
    "ax = plt.gca()\n",
    "ax.plot(x, y, label=r'function $f$')\n",
    "ax.plot(x, df, label=r'derivative of $f$')\n",
    "plt.plot(root, 0, 'ro', label='positive root')\n",
    "plt.xlim(-2, 4)\n",
    "plt.ylim(-6, 4)\n",
    "ax.legend()\n",
    "plt.show()"
   ]
  },
  {
   "cell_type": "markdown",
   "metadata": {},
   "source": [
    "### Question 2"
   ]
  },
  {
   "cell_type": "code",
   "execution_count": 27,
   "metadata": {},
   "outputs": [],
   "source": [
    "# length of curves\n",
    "\n",
    "def integrand_length(y, x):\n",
    "    return np.sqrt(1 + derivative(y, x)**2)\n",
    "\n",
    "def length(integrand_length, lower_limit, upper_limit):\n",
    "    result, error = integrate.quad(integrand_length, \n",
    "                                   lower_limit, \n",
    "                                   upper_limit)\n",
    "    return result, error\n"
   ]
  },
  {
   "cell_type": "code",
   "execution_count": 28,
   "metadata": {},
   "outputs": [],
   "source": [
    "# cable\n",
    "\n",
    "alpha = 1\n",
    "beta = 1\n",
    "\n",
    "def cable(x):\n",
    "    return alpha+beta*np.cosh(x/alpha)\n",
    "\n",
    "def cable_integrand_length(x):\n",
    "    return integrand_length(cable, x)"
   ]
  },
  {
   "cell_type": "code",
   "execution_count": 29,
   "metadata": {},
   "outputs": [
    {
     "name": "stdout",
     "output_type": "stream",
     "text": [
      "The approximate length of the cable is 2.3504024470965437 with error 1.8712200192502773e-06\n"
     ]
    }
   ],
   "source": [
    "# calculating the length of the cable\n",
    "\n",
    "lower_limit = -1\n",
    "upper_limit = 1\n",
    "\n",
    "cable_length, error = length(cable_integrand_length, lower_limit, upper_limit)\n",
    "\n",
    "print(f\"The approximate length of the cable is {cable_length} with error {error}\")"
   ]
  },
  {
   "cell_type": "code",
   "execution_count": 86,
   "metadata": {},
   "outputs": [],
   "source": [
    "# another code\n",
    "\n",
    "def z(x, a):\n",
    "    return np.sqrt(1 + ((5 - a)**2/a**2)*(np.sinh(x/a))**2)\n",
    "\n",
    "def z_x(a):\n",
    "    integrand = lambda x: z(x, a)\n",
    "    integral_result, _ = integrate.quad(integrand, -9, 9)\n",
    "    return integral_result\n",
    "\n",
    "def F(a):\n",
    "    return z_x(a)-19"
   ]
  },
  {
   "cell_type": "code",
   "execution_count": 92,
   "metadata": {},
   "outputs": [
    {
     "data": {
      "image/png": "[encoded data removed]",
      "text/plain": [
       "<Figure size 432x288 with 1 Axes>"
      ]
     },
     "metadata": {
      "needs_background": "light"
     },
     "output_type": "display_data"
    }
   ],
   "source": [
    "# plot question 2 phi_q2\n",
    "\n",
    "t = np.arange(2, 20, 0.01)\n",
    "y_phi = [F(t) for t in t]\n",
    "\n",
    "plt.axhline(0, color='black', linewidth=1)\n",
    "plt.axvline(0, color='black', linewidth=1)\n",
    "\n",
    "ax = plt.gca()\n",
    "ax.plot(t, y_phi, label=r'function $F$')\n",
    "plt.xlim(3, 10)\n",
    "plt.ylim(-2, 2)\n",
    "plt.legend()\n",
    "plt.show()"
   ]
  },
  {
   "cell_type": "code",
   "execution_count": 68,
   "metadata": {},
   "outputs": [
    {
     "data": {
      "text/plain": [
       "4.5"
      ]
     },
     "execution_count": 68,
     "metadata": {},
     "output_type": "execute_result"
    }
   ],
   "source": [
    "# finding the root for F\n",
    "\n",
    "bisection(F, 3, 5, 5e-4, 100)"
   ]
  },
  {
   "cell_type": "code",
   "execution_count": 97,
   "metadata": {},
   "outputs": [
    {
     "data": {
      "image/png": "[encoded data removed]",
      "text/plain": [
       "<Figure size 432x288 with 1 Axes>"
      ]
     },
     "metadata": {
      "needs_background": "light"
     },
     "output_type": "display_data"
    }
   ],
   "source": [
    "# plot question 2 F\n",
    "\n",
    "domain = np.arange(-9, 9, 0.01)\n",
    "\n",
    "y_cable = [4.5+0.5*np.cosh(x/4.5) for x in domain]\n",
    "\n",
    "plt.axhline(0, color='black', linewidth=1)\n",
    "plt.axvline(0, color='black', linewidth=1)\n",
    "\n",
    "ax = plt.gca()\n",
    "ax.plot(domain, y_cable)\n",
    "\n",
    "plt.vlines(x = -9, ymin = 0, ymax = 4.5+0.5*np.cosh(9/4.5),\n",
    "           colors = 'purple',\n",
    "           label = 'height of 6.381 m')\n",
    "\n",
    "plt.vlines(x = 9, ymin = 0, ymax = 4.5+0.5*np.cosh(9/4.5),\n",
    "           colors = 'purple')\n",
    "\n",
    "plt.vlines(x = 0, ymin = 0, ymax = 5,\n",
    "           colors = 'red',\n",
    "           label = 'tree restriction')\n",
    "\n",
    "plt.xlim(-12, 12)\n",
    "plt.ylim(-2, 10)\n",
    "ax.legend()\n",
    "plt.show()"
   ]
  },
  {
   "cell_type": "code",
   "execution_count": 80,
   "metadata": {},
   "outputs": [
    {
     "data": {
      "text/plain": [
       "6.381097845541816"
      ]
     },
     "execution_count": 80,
     "metadata": {},
     "output_type": "execute_result"
    }
   ],
   "source": [
    "4.5+0.5*np.cosh(9/4.5)"
   ]
  }
 ],
 "metadata": {
  "kernelspec": {
   "display_name": "Python 3",
   "language": "python",
   "name": "python3"
  },
  "language_info": {
   "codemirror_mode": {
    "name": "ipython",
    "version": 3
   },
   "file_extension": ".py",
   "mimetype": "text/x-python",
   "name": "python",
   "nbconvert_exporter": "python",
   "pygments_lexer": "ipython3",
   "version": "3.10.4"
  },
  "orig_nbformat": 4
 },
 "nbformat": 4,
 "nbformat_minor": 2
}
