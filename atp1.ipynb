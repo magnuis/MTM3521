{
 "cells": [
  {
   "cell_type": "code",
   "execution_count": 87,
   "metadata": {},
   "outputs": [],
   "source": [
    "# preamble\n",
    "\n",
    "import matplotlib.pyplot as plt\n",
    "import numpy as np\n",
    "e = np.e\n",
    "pi = np.pi"
   ]
  },
  {
   "cell_type": "markdown",
   "metadata": {},
   "source": [
    "## ATP1 (30/8)"
   ]
  },
  {
   "cell_type": "code",
   "execution_count": 88,
   "metadata": {},
   "outputs": [],
   "source": [
    "# generic functions\n",
    "\n",
    "def derivative(func, x):\n",
    "\n",
    "    h = 1e-10\n",
    "\n",
    "    return (func(x + h) - func(x))/h\n",
    "\n",
    "def calculate_L(func, min_interval, max_interval):\n",
    "\n",
    "    interval = [min_interval, max_interval]\n",
    "    max_derivative = max(abs(derivative(func, x)) for x in interval)\n",
    "\n",
    "    return max_derivative\n",
    "\n",
    "def calculate_m(func, min_interval, max_interval):\n",
    "\n",
    "    interval = [min_interval, max_interval]\n",
    "    min_derivative = min(abs(derivative(func, x)) for x in interval)\n",
    "\n",
    "    return min_derivative"
   ]
  },
  {
   "cell_type": "code",
   "execution_count": 89,
   "metadata": {},
   "outputs": [],
   "source": [
    "# fixed point method\n",
    "\n",
    "def fixed_point(func, \n",
    "                min_interval, \n",
    "                max_interval, \n",
    "                delta, \n",
    "                max_iterations):\n",
    "    ''' \n",
    "    initial guess is (min_interval+max_interval)/2\n",
    "    '''\n",
    "    x = (min_interval+max_interval)/2\n",
    "    L = calculate_L(func, min_interval, max_interval)\n",
    "    eps = ((1 - L)/L)*delta\n",
    "\n",
    "    for i in range(1, max_iterations):\n",
    "        x_next = func(x)\n",
    "        if abs(x_next - x) < eps:\n",
    "            return x_next, i\n",
    "        x = x_next\n",
    "        \n",
    "    return x, -1"
   ]
  },
  {
   "cell_type": "code",
   "execution_count": 90,
   "metadata": {},
   "outputs": [],
   "source": [
    "# newton's method\n",
    "\n",
    "def newton(g, \n",
    "            dg, \n",
    "            min_interval, \n",
    "            max_interval, \n",
    "            delta, \n",
    "            max_iterations):\n",
    "    ''' \n",
    "    initial guess is (min_interval+max_interval)/2\n",
    "    '''\n",
    "    x = (min_interval+max_interval)/2\n",
    "    m = calculate_m(g, min_interval, max_interval)\n",
    "    M = calculate_L(dg, min_interval, max_interval)\n",
    "    eps = np.sqrt(((2*m)/M)*delta)\n",
    "\n",
    "    for i in range(1, max_iterations):\n",
    "        x_next = x-g(x)/dg(x)\n",
    "        if abs(x_next - x) < eps:\n",
    "            return x_next, i\n",
    "        x = x_next\n",
    "        \n",
    "    return x, -1"
   ]
  },
  {
   "cell_type": "markdown",
   "metadata": {},
   "source": [
    "### Question 1"
   ]
  },
  {
   "cell_type": "code",
   "execution_count": 91,
   "metadata": {},
   "outputs": [],
   "source": [
    "# question function\n",
    "\n",
    "def f(x):\n",
    "    return x*e**(x/2)-1.2*x-5\n",
    "\n",
    "def df(x):\n",
    "    return e**(x/2)+(x/2)*e**(x/2)-1.2\n",
    "\n",
    "# iteration functions\n",
    "\n",
    "def phi_a(x):\n",
    "    return 5/(e**(x/2)-1.2)\n",
    "\n",
    "def phi_b(x):\n",
    "    return (1.2*x+5)/(e**(x/2))\n",
    "\n",
    "def phi_c(x):\n",
    "    return x*(e**(x/2)-0.2)-5"
   ]
  },
  {
   "cell_type": "code",
   "execution_count": 92,
   "metadata": {},
   "outputs": [],
   "source": [
    "# test parameters for phi_b\n",
    "\n",
    "min_interval = 2.1\n",
    "max_interval = 4\n",
    "delta = 5*10**(-4)\n",
    "max_iterations = 10000"
   ]
  },
  {
   "cell_type": "code",
   "execution_count": 93,
   "metadata": {},
   "outputs": [
    {
     "data": {
      "text/plain": [
       "(0.8958389585700388, 1.3262857757188047, 2.631531873315888)"
      ]
     },
     "execution_count": 93,
     "metadata": {},
     "output_type": "execute_result"
    }
   ],
   "source": [
    "# phi_b satisfies fixed_point condition and L condition\n",
    "\n",
    "L = calculate_L(phi_b, min_interval, max_interval)\n",
    "m = min(phi_b(x) for x in [min_interval,max_interval])\n",
    "M = max(phi_b(x) for x in [min_interval,max_interval])\n",
    "\n",
    "L, m, M"
   ]
  },
  {
   "cell_type": "code",
   "execution_count": 94,
   "metadata": {},
   "outputs": [
    {
     "name": "stdout",
     "output_type": "stream",
     "text": [
      "The root 2.38547025216842 was found with 53 iterations.\n"
     ]
    }
   ],
   "source": [
    "# root with fixed point method\n",
    "\n",
    "root, i = fixed_point(func=phi_b, \n",
    "                      min_interval=min_interval, \n",
    "                      max_interval=max_interval, \n",
    "                      delta=delta, \n",
    "                      max_iterations=max_iterations)\n",
    "\n",
    "print(f\"The root {root} was found with {i} iterations.\")"
   ]
  },
  {
   "cell_type": "code",
   "execution_count": 95,
   "metadata": {},
   "outputs": [
    {
     "name": "stdout",
     "output_type": "stream",
     "text": [
      "The root 2.3854827235536455 was found with 2 iterations.\n"
     ]
    }
   ],
   "source": [
    "# root with newton's method\n",
    "\n",
    "root, i = newton(g=f, \n",
    "                 dg=df, \n",
    "                 min_interval=min_interval, \n",
    "                 max_interval=max_interval, \n",
    "                 delta=delta, \n",
    "                 max_iterations=max_iterations)\n",
    "\n",
    "print(f\"The root {root} was found with {i} iterations.\")"
   ]
  },
  {
   "cell_type": "code",
   "execution_count": 96,
   "metadata": {},
   "outputs": [
    {
     "data": {
      "image/png": "[encoded data removed]",
      "text/plain": [
       "<Figure size 640x480 with 1 Axes>"
      ]
     },
     "metadata": {},
     "output_type": "display_data"
    }
   ],
   "source": [
    "# plot question 1\n",
    "\n",
    "x = np.arange(-2, 3.5, 0.01)\n",
    "y = [f(x) for x in x]\n",
    "\n",
    "df = [derivative(f, x) for x in x]\n",
    "\n",
    "plt.axhline(0, color='black', linewidth=1)\n",
    "plt.axvline(0, color='black', linewidth=1)\n",
    "\n",
    "ax = plt.gca()\n",
    "ax.plot(x, y, label=r'function $f$')\n",
    "ax.plot(x, df, label=r'derivative of $f$')\n",
    "plt.plot(root, 0, 'ro', label='positive root')\n",
    "plt.xlim(-2, 4)\n",
    "plt.ylim(-6, 4)\n",
    "ax.legend()\n",
    "plt.show()"
   ]
  }
 ],
 "metadata": {
  "kernelspec": {
   "display_name": "Python 3",
   "language": "python",
   "name": "python3"
  },
  "language_info": {
   "codemirror_mode": {
    "name": "ipython",
    "version": 3
   },
   "file_extension": ".py",
   "mimetype": "text/x-python",
   "name": "python",
   "nbconvert_exporter": "python",
   "pygments_lexer": "ipython3",
   "version": "3.10.4"
  },
  "orig_nbformat": 4
 },
 "nbformat": 4,
 "nbformat_minor": 2
}
