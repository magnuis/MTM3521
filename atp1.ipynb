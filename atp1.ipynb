{
 "cells": [
  {
   "cell_type": "code",
   "execution_count": 1,
   "metadata": {},
   "outputs": [],
   "source": [
    "# preamble\n",
    "\n",
    "import matplotlib.pyplot as plt\n",
    "from scipy import integrate\n",
    "import numpy as np\n",
    "e = np.e\n",
    "pi = np.pi"
   ]
  },
  {
   "cell_type": "code",
   "execution_count": 2,
   "metadata": {},
   "outputs": [],
   "source": [
    "# warnings\n",
    "\n",
    "import warnings\n",
    "warnings.filterwarnings('ignore') # comment if u want to see the warnings"
   ]
  },
  {
   "cell_type": "markdown",
   "metadata": {},
   "source": [
    "## ATP1 (30/8)"
   ]
  },
  {
   "cell_type": "code",
   "execution_count": 3,
   "metadata": {},
   "outputs": [],
   "source": [
    "# generic functions\n",
    "\n",
    "def derivative(func, x, h=1e-10):\n",
    "    '''\n",
    "    Method to find the approximate derivative of a function f at point x.\n",
    "    \n",
    "    :param func: function to be differentiated\n",
    "    :param x: point to be evaluated\n",
    "    :return: the approximate derivative of f at x\n",
    "    '''\n",
    "    return (func(x + h) - func(x))/h\n",
    "\n",
    "def calculate_L(func, min_interval, max_interval):\n",
    "    '''\n",
    "    Method to find the Lipschitz constant of a function f in an interval [a, b].\n",
    "    :param func: function to be evaluated\n",
    "    :param min_interval: left endpoint of the interval\n",
    "    :param max_interval: right endpoint of the interval\n",
    "    :return: the Lipschitz constant of f in [a, b]\n",
    "    '''\n",
    "    interval = [min_interval, max_interval]\n",
    "    max_derivative = max(abs(derivative(func, x)) for x in interval)\n",
    "\n",
    "    return max_derivative\n",
    "\n",
    "def calculate_m(func, min_interval, max_interval):\n",
    "    '''\n",
    "    Method to find the minimum of the derivative of a function f in an interval [a, b].\n",
    "    :param func: function to be evaluated\n",
    "    :param min_interval: left endpoint of the interval\n",
    "    :param max_interval: right endpoint of the interval\n",
    "    :return: the minimum of the derivative of f in [a, b]\n",
    "    '''\n",
    "\n",
    "    interval = [min_interval, max_interval]\n",
    "    min_derivative = min(abs(derivative(func, x)) for x in interval)\n",
    "\n",
    "    return min_derivative"
   ]
  },
  {
   "cell_type": "code",
   "execution_count": 4,
   "metadata": {},
   "outputs": [],
   "source": [
    "# fixed point method\n",
    "\n",
    "def fixed_point(func, \n",
    "                min_interval, \n",
    "                max_interval, \n",
    "                delta, \n",
    "                max_iterations):\n",
    "    ''' \n",
    "    Implementation of the fixed point method, to find the root of a function f.\n",
    "    :param func: function to be solved\n",
    "    :param min_interval: minimum interval\n",
    "    :param max_interval: maximum interval\n",
    "    :param delta: error\n",
    "    :param max_iterations: maximum number of iterations\n",
    "    :return: root of the function\n",
    "    '''\n",
    "    x = (min_interval+max_interval)/2.0\n",
    "    L = calculate_L(func, min_interval, max_interval)\n",
    "    eps = ((1 - L)/L)*delta\n",
    "\n",
    "    for i in range(1, max_iterations):\n",
    "        x_next = func(x)\n",
    "        if abs(x_next - x) < eps:\n",
    "            return x_next, i\n",
    "        x = x_next\n",
    "        \n",
    "    return x, -1"
   ]
  },
  {
   "cell_type": "code",
   "execution_count": 5,
   "metadata": {},
   "outputs": [],
   "source": [
    "# newton's method\n",
    "\n",
    "def newton(g, \n",
    "            dg, \n",
    "            min_interval, \n",
    "            max_interval, \n",
    "            delta, \n",
    "            max_iterations):\n",
    "    ''' \n",
    "    Implementation of Newton's method, to find the root of a function f.\n",
    "    :param g: function to be solved\n",
    "    :param dg: derivative of g\n",
    "    :param min_interval: minimum interval\n",
    "    :param max_interval: maximum interval\n",
    "    :param delta: error\n",
    "    :param max_iterations: maximum number of iterations\n",
    "    :return: root, number of iterations\n",
    "    '''\n",
    "    x = (min_interval+max_interval)/2.0\n",
    "    m = calculate_m(g, min_interval, max_interval)\n",
    "    M = calculate_L(dg, min_interval, max_interval)\n",
    "    eps = np.sqrt(((2*m)/M)*delta)\n",
    "\n",
    "    for i in range(1, max_iterations):\n",
    "        x_next = x-g(x)/dg(x)\n",
    "        if abs(x_next - x) < eps:\n",
    "            return x_next, i\n",
    "        x = x_next\n",
    "        \n",
    "    return x, -1"
   ]
  },
  {
   "cell_type": "code",
   "execution_count": 6,
   "metadata": {},
   "outputs": [],
   "source": [
    "# bisection method\n",
    "\n",
    "def bisection(func, min_interval, max_interval, delta, max_iterations):\n",
    "    '''\n",
    "    Implementation of the bisection method, to find the root of a function f.\n",
    "    :param func: function to find root of\n",
    "    :param min_interval: minimum interval\n",
    "    :param max_interval: maximum interval\n",
    "    :param delta: tolerance\n",
    "    :param max_iterations: maximum number of iterations\n",
    "    :return: root, number of iterations\n",
    "    '''\n",
    "    a = min_interval\n",
    "    b = max_interval\n",
    "    for i in range(1, max_iterations):\n",
    "        c = (a+b)/2.0\n",
    "        if func(c) == 0 or (b-a)/2.0 < delta:\n",
    "            return c, i\n",
    "        elif func(c)*func(a) < 0:\n",
    "            b = c\n",
    "        else:\n",
    "            a = c\n",
    "\n",
    "    return (a+b)/2.0, -1"
   ]
  },
  {
   "cell_type": "markdown",
   "metadata": {},
   "source": [
    "### Question 1"
   ]
  },
  {
   "cell_type": "code",
   "execution_count": 7,
   "metadata": {},
   "outputs": [],
   "source": [
    "# question function\n",
    "\n",
    "def f(x):\n",
    "    return x*e**(x/2)-1.2*x-5\n",
    "\n",
    "def df(x):\n",
    "    return e**(x/2)+(x/2)*e**(x/2)-1.2\n",
    "\n",
    "# iteration functions\n",
    "\n",
    "def phi_a(x):\n",
    "    return 5/(e**(x/2)-1.2)\n",
    "\n",
    "def phi_b(x):\n",
    "    return (1.2*x+5)/(e**(x/2))\n",
    "\n",
    "def phi_c(x):\n",
    "    return x*(e**(x/2)-0.2)-5"
   ]
  },
  {
   "cell_type": "code",
   "execution_count": 8,
   "metadata": {},
   "outputs": [],
   "source": [
    "# test parameters for phi_b\n",
    "\n",
    "min_interval = 2.1\n",
    "max_interval = 2.7\n",
    "delta = 5e-04\n",
    "max_iterations = 10000"
   ]
  },
  {
   "cell_type": "code",
   "execution_count": 9,
   "metadata": {},
   "outputs": [
    {
     "data": {
      "text/plain": [
       "(0.8958389585700388, 2.136139747722146, 2.631531873315888)"
      ]
     },
     "execution_count": 9,
     "metadata": {},
     "output_type": "execute_result"
    }
   ],
   "source": [
    "# phi_b satisfies fixed_point condition and L condition\n",
    "\n",
    "L = calculate_L(phi_b, min_interval, max_interval)\n",
    "m = min(phi_b(x) for x in [min_interval,max_interval])\n",
    "M = max(phi_b(x) for x in [min_interval,max_interval])\n",
    "\n",
    "L, m, M"
   ]
  },
  {
   "cell_type": "code",
   "execution_count": 10,
   "metadata": {},
   "outputs": [
    {
     "name": "stdout",
     "output_type": "stream",
     "text": [
      "The root 2.385470371653961 was found with 34 iterations.\n"
     ]
    }
   ],
   "source": [
    "# root with fixed point method\n",
    "\n",
    "root, i = fixed_point(func=phi_b, \n",
    "                      min_interval=min_interval, \n",
    "                      max_interval=max_interval, \n",
    "                      delta=delta, \n",
    "                      max_iterations=max_iterations)\n",
    "\n",
    "print(f\"The root {root} was found with {i} iterations.\")"
   ]
  },
  {
   "cell_type": "code",
   "execution_count": 11,
   "metadata": {},
   "outputs": [
    {
     "name": "stdout",
     "output_type": "stream",
     "text": [
      "The root 2.385537861325117 was found with 1 iterations.\n"
     ]
    }
   ],
   "source": [
    "# root with newton's method\n",
    "\n",
    "root, i = newton(g=f, \n",
    "                 dg=df, \n",
    "                 min_interval=min_interval, \n",
    "                 max_interval=max_interval, \n",
    "                 delta=delta, \n",
    "                 max_iterations=max_iterations)\n",
    "\n",
    "print(f\"The root {root} was found with {i} iterations.\")"
   ]
  },
  {
   "cell_type": "code",
   "execution_count": 12,
   "metadata": {},
   "outputs": [
    {
     "data": {
      "image/png": "[encoded data removed]",
      "text/plain": [
       "<Figure size 432x288 with 1 Axes>"
      ]
     },
     "metadata": {
      "needs_background": "light"
     },
     "output_type": "display_data"
    }
   ],
   "source": [
    "# plot question 1\n",
    "\n",
    "x = np.arange(-2, 3.5, 0.01)\n",
    "y = [f(x) for x in x]\n",
    "\n",
    "df = [derivative(f, x) for x in x]\n",
    "\n",
    "plt.axhline(0, color='black', linewidth=1)\n",
    "plt.axvline(0, color='black', linewidth=1)\n",
    "\n",
    "ax = plt.gca()\n",
    "ax.plot(x, y, label=r'function $f$')\n",
    "ax.plot(x, df, label=r'derivative of $f$')\n",
    "plt.plot(root, 0, 'ro', label='positive root')\n",
    "plt.xlim(-2, 4)\n",
    "plt.ylim(-6, 4)\n",
    "ax.legend()\n",
    "plt.show()"
   ]
  },
  {
   "cell_type": "markdown",
   "metadata": {},
   "source": [
    "### Question 2"
   ]
  },
  {
   "cell_type": "code",
   "execution_count": 13,
   "metadata": {},
   "outputs": [],
   "source": [
    "# general length of curves\n",
    "\n",
    "def integrand_length(y, x):\n",
    "    return np.sqrt(1 + derivative(func=y, x=x)**2)\n",
    "\n",
    "def length(integrand_length, lower_limit, upper_limit):\n",
    "    result, error = integrate.quad(func=integrand_length, \n",
    "                                   a=lower_limit, \n",
    "                                   b=upper_limit)\n",
    "    return result, error\n",
    "\n",
    "# cable specific\n",
    "\n",
    "def cable(x, alpha=1, beta=1):\n",
    "    return alpha+beta*np.cosh(x/alpha)\n",
    "\n",
    "def cable_integrand_length(x):\n",
    "    return integrand_length(y=cable, x=x)"
   ]
  },
  {
   "cell_type": "code",
   "execution_count": 14,
   "metadata": {},
   "outputs": [
    {
     "name": "stdout",
     "output_type": "stream",
     "text": [
      "The approximate length of the cable is 2.3504024470965437 with error 1.8712200192502773e-06\n"
     ]
    }
   ],
   "source": [
    "# calculating the length of the cable\n",
    "\n",
    "cable_length, error = length(integrand_length=cable_integrand_length, \n",
    "                             lower_limit=-1, \n",
    "                             upper_limit=1)\n",
    "\n",
    "print(f\"The approximate length of the cable is {cable_length} with error {error}\")"
   ]
  },
  {
   "cell_type": "code",
   "execution_count": 15,
   "metadata": {},
   "outputs": [],
   "source": [
    "# another code\n",
    "\n",
    "def z(x, a):\n",
    "    return np.sqrt(1 + ((5-a)**2/a**2)*(np.sinh(x/a))**2)\n",
    "\n",
    "def z_x(a):\n",
    "    integrand = lambda x: z(x, a)\n",
    "    integral_result, _ = integrate.quad(integrand, -9, 9)\n",
    "    return integral_result\n",
    "\n",
    "def F(a):\n",
    "    return z_x(a)-19"
   ]
  },
  {
   "cell_type": "code",
   "execution_count": 16,
   "metadata": {},
   "outputs": [
    {
     "data": {
      "image/png": "[encoded data removed]",
      "text/plain": [
       "<Figure size 432x288 with 1 Axes>"
      ]
     },
     "metadata": {
      "needs_background": "light"
     },
     "output_type": "display_data"
    }
   ],
   "source": [
    "# plot question 2 F\n",
    "\n",
    "t = np.arange(2, 20, 0.01)\n",
    "y_F = [F(t) for t in t]\n",
    "\n",
    "plt.axhline(0, color='black', linewidth=1)\n",
    "plt.axvline(0, color='black', linewidth=1)\n",
    "\n",
    "ax = plt.gca()\n",
    "ax.plot(t, y_F, label=r'function $F$')\n",
    "plt.xlim(3, 10)\n",
    "plt.ylim(-2, 2)\n",
    "plt.legend()\n",
    "plt.show()"
   ]
  },
  {
   "cell_type": "code",
   "execution_count": 17,
   "metadata": {},
   "outputs": [
    {
     "name": "stdout",
     "output_type": "stream",
     "text": [
      "alpha = 4.23486328125, beta = 0.76513671875, min_height = 7.484442904406938\n"
     ]
    }
   ],
   "source": [
    "# finding the infos needed for q2\n",
    "\n",
    "poles_position = 9 # or 9, whatever\n",
    "alpha_q2, iterations_alpha_q2 = bisection(func=F, \n",
    "                                          min_interval=3, \n",
    "                                          max_interval=5, \n",
    "                                          delta=5e-04, \n",
    "                                          max_iterations=1000)\n",
    "beta_q2 = 5-alpha_q2\n",
    "min_height = alpha_q2+beta_q2*np.cosh(9/alpha_q2)\n",
    "\n",
    "print(f\"alpha = {alpha_q2}, beta = {beta_q2}, min_height = {min_height}\")"
   ]
  },
  {
   "cell_type": "code",
   "execution_count": 18,
   "metadata": {},
   "outputs": [
    {
     "data": {
      "image/png": "[encoded data removed]",
      "text/plain": [
       "<Figure size 432x288 with 1 Axes>"
      ]
     },
     "metadata": {
      "needs_background": "light"
     },
     "output_type": "display_data"
    }
   ],
   "source": [
    "# plot question 2 F\n",
    "\n",
    "domain = np.arange(-9, 9, 0.01)\n",
    "\n",
    "y_cable = [alpha_q2+beta_q2*np.cosh(x/alpha_q2) for x in domain]\n",
    "\n",
    "plt.axhline(0, color='black', linewidth=1)\n",
    "plt.axvline(0, color='black', linewidth=1)\n",
    "\n",
    "ax = plt.gca()\n",
    "ax.plot(domain, y_cable)\n",
    "\n",
    "plt.vlines(x = -9, ymin = 0, ymax = min_height,\n",
    "           colors = 'purple',\n",
    "           label = r'height$\\approx 7.483$ m')\n",
    "\n",
    "plt.vlines(x = 9, ymin = 0, ymax = min_height,\n",
    "           colors = 'purple')\n",
    "\n",
    "plt.vlines(x = 0, ymin = 0, ymax = 5,\n",
    "           colors = 'red',\n",
    "           label = 'tree restriction')\n",
    "\n",
    "plt.xlim(-12, 12)\n",
    "plt.ylim(-2, 10)\n",
    "ax.legend()\n",
    "plt.show()"
   ]
  },
  {
   "cell_type": "markdown",
   "metadata": {},
   "source": [
    "## Question 3"
   ]
  },
  {
   "cell_type": "code",
   "execution_count": 19,
   "metadata": {},
   "outputs": [
    {
     "name": "stdout",
     "output_type": "stream",
     "text": [
      "The root 3.141592653300477 was found with 2 iterations.\n",
      "The root 3.123932397162858 was found with 3 iterations.\n"
     ]
    }
   ],
   "source": [
    "def a_function(x):\n",
    "    return np.sin(x)\n",
    "    \n",
    "def a_derivative(x):\n",
    "    return np.cos(x)\n",
    "\n",
    "def b_function(x):\n",
    "    return np.cos(x) + 1\n",
    "\n",
    "def b_dericative(x):\n",
    "    return -1*np.sin(x)\n",
    "\n",
    "\n",
    "approx_a, iterations_a = newton(\n",
    "    g=a_function, \n",
    "    dg=a_derivative, \n",
    "    min_interval=2.5, \n",
    "    max_interval=3.5, \n",
    "    delta=1e-3, \n",
    "    max_iterations=100\n",
    ")\n",
    "\n",
    "approx_b, iterations_b = newton(\n",
    "    g=b_function, \n",
    "    dg=b_dericative, \n",
    "    min_interval=2.5, \n",
    "    max_interval=3.5, \n",
    "    delta=1e-3, \n",
    "    max_iterations=100\n",
    ")\n",
    "\n",
    "# for i in range(6):\n",
    "#     for j in range(i, 6):\n",
    "#         approx_b, iterations_b = newton(g=b_function, dg=b_dericative, min_interval=i, max_interval=j, delta=10**(-3), max_iterations=100)\n",
    "#         if (iterations_b > 0):\n",
    "#             print(f\"The root {round(approx_b, 5)} was found with {iterations_b} iterations with min={i} and max={j}.\")\n",
    "\n",
    "print(f\"The root {approx_a} was found with {iterations_a} iterations.\")\n",
    "print(f\"The root {approx_b} was found with {iterations_b} iterations.\")"
   ]
  },
  {
   "cell_type": "code",
   "execution_count": 20,
   "metadata": {},
   "outputs": [
    {
     "data": {
      "image/png": "[encoded data removed]",
      "text/plain": [
       "<Figure size 432x288 with 1 Axes>"
      ]
     },
     "metadata": {
      "needs_background": "light"
     },
     "output_type": "display_data"
    }
   ],
   "source": [
    "# plot question 3\n",
    "\n",
    "domain_q3 = np.arange(0, 10, 0.1)\n",
    "\n",
    "y_a = [a_function(x) for x in domain_q3]\n",
    "y_b = [b_function(x) for x in domain_q3]\n",
    "\n",
    "plt.axhline(0, color='black', linewidth=1)\n",
    "plt.axvline(0, color='black', linewidth=1)\n",
    "\n",
    "ax = plt.gca()\n",
    "ax.plot(domain_q3, y_a, label=r'$\\sin(x)$')\n",
    "ax.plot(domain_q3, y_b, label=r'$\\cos(x)+1$')\n",
    "plt.plot(pi, 0, 'ro', label=r'$\\pi$')\n",
    "plt.xlim(2.5, 4)\n",
    "plt.ylim(-1,1)\n",
    "ax.legend()\n",
    "plt.show()"
   ]
  },
  {
   "cell_type": "markdown",
   "metadata": {},
   "source": [
    "## Question 4"
   ]
  },
  {
   "cell_type": "code",
   "execution_count": 150,
   "metadata": {},
   "outputs": [
    {
     "name": "stdout",
     "output_type": "stream",
     "text": [
      "The negative root -1.1996786370873451 was found with 27 iterations.\n",
      "The positive root 1.1996786370873451 was found with 27 iterations.\n"
     ]
    }
   ],
   "source": [
    "def f_q4(x):\n",
    "    return e**x*(x-1)-e**(-x)*(x+1)\n",
    "\n",
    "approx_pos_root, iterations_pos_root = bisection(\n",
    "    func=f_q4, \n",
    "    min_interval=1, \n",
    "    max_interval=2, \n",
    "    delta=1e-08, \n",
    "    max_iterations=100\n",
    ")\n",
    "\n",
    "approx_neg_root, iterations_neg_root = bisection(\n",
    "    func=f_q4, \n",
    "    min_interval=-2, \n",
    "    max_interval=-1, \n",
    "    delta=1e-08, \n",
    "    max_iterations=100\n",
    ")\n",
    "\n",
    "print(f\"The negative root {approx_neg_root} was found with {iterations_neg_root} iterations.\")\n",
    "print(f\"The positive root {approx_pos_root} was found with {iterations_pos_root} iterations.\")"
   ]
  },
  {
   "cell_type": "code",
   "execution_count": 149,
   "metadata": {},
   "outputs": [
    {
     "data": {
      "image/png": "[encoded data removed]",
      "text/plain": [
       "<Figure size 432x288 with 1 Axes>"
      ]
     },
     "metadata": {
      "needs_background": "light"
     },
     "output_type": "display_data"
    }
   ],
   "source": [
    "# plot question 4\n",
    "\n",
    "x_q4 = np.arange(-10, 10, 0.01)\n",
    "\n",
    "y_q4 = [f_q4(x) for x in x_q4]\n",
    "\n",
    "plt.axhline(0, color='black', linewidth=1)\n",
    "plt.axvline(0, color='black', linewidth=1)\n",
    "\n",
    "ax = plt.gca()\n",
    "\n",
    "ax.plot(x_q4, y_q4, label=r'function $f$')\n",
    "ax.plot(approx_pos_root, 0, 'ro', label=r'roots')\n",
    "ax.plot(approx_neg_root, 0, 'ro')\n",
    "\n",
    "plt.xlim(-2, 2)\n",
    "plt.ylim(-3, 1)\n",
    "plt.legend()\n",
    "plt.show()"
   ]
  },
  {
   "cell_type": "markdown",
   "metadata": {},
   "source": [
    "## Question 6"
   ]
  },
  {
   "cell_type": "code",
   "execution_count": 22,
   "metadata": {},
   "outputs": [
    {
     "name": "stdout",
     "output_type": "stream",
     "text": [
      "The root 0.4305192026239519 was found with 11 iterations.\n",
      "The root 2.944141283387587 was found with 13 iterations.\n"
     ]
    }
   ],
   "source": [
    "def f(h, r=1, v=0.5):\n",
    "    return (pi*(h**2)*(3*r-h))/3 - v\n",
    "\n",
    "def df(h, r=1):\n",
    "    return 6*h*pi*r - 3*(h**2)*pi\n",
    "\n",
    "\n",
    "approx_a, iterations_a = newton(\n",
    "    g=f, \n",
    "    dg=df, \n",
    "    min_interval=0.25, \n",
    "    max_interval=0.5, \n",
    "    delta=10**(-6), \n",
    "    max_iterations=100\n",
    ")\n",
    "\n",
    "approx_b, iterations_b = newton(\n",
    "    g=f, \n",
    "    dg=df, \n",
    "    min_interval=2.5, \n",
    "    max_interval=3, \n",
    "    delta=10**(-6), \n",
    "    max_iterations=100\n",
    ")\n",
    "\n",
    "print(f\"The root {approx_a} was found with {iterations_a} iterations.\")\n",
    "print(f\"The root {approx_b} was found with {iterations_b} iterations.\")"
   ]
  },
  {
   "cell_type": "code",
   "execution_count": 23,
   "metadata": {},
   "outputs": [
    {
     "data": {
      "image/png": "[encoded data removed]",
      "text/plain": [
       "<Figure size 432x288 with 1 Axes>"
      ]
     },
     "metadata": {
      "needs_background": "light"
     },
     "output_type": "display_data"
    }
   ],
   "source": [
    "# plot question 6\n",
    "\n",
    "x = np.arange(0, 4, 0.1)\n",
    "y = [f(x) for x in x]\n",
    "\n",
    "x1 = np.arange(0.25, 0.5, 0.1)\n",
    "y1 = [f(x) for x in x1]\n",
    "\n",
    "x2 = np.arange(2.5, 3, 0.1)\n",
    "y2 = [f(x) for x in x2]\n",
    "\n",
    "df = [derivative(f, x) for x in x]\n",
    "\n",
    "plt.axhline(0, color='black', linewidth=1)\n",
    "plt.axvline(0, color='black', linewidth=1)\n",
    "\n",
    "ax = plt.gca()\n",
    "ax.plot(x, y, label=r'function $f$')\n",
    "ax.plot(x1, y1, label=r'$f$ in $[0.25, 0.5]$')\n",
    "ax.plot(x2, y2, label=r'$f$ in $[2.5, 3]$')\n",
    "plt.plot(approx_a, 0, 'ro', label='positive root')\n",
    "plt.plot(approx_b, 0, 'ro')\n",
    "plt.xlim(-2, 4)\n",
    "plt.ylim(-6, 4)\n",
    "ax.legend()\n",
    "plt.show()"
   ]
  }
 ],
 "metadata": {
  "kernelspec": {
   "display_name": "estudoEnv",
   "language": "python",
   "name": "python3"
  },
  "language_info": {
   "codemirror_mode": {
    "name": "ipython",
    "version": 3
   },
   "file_extension": ".py",
   "mimetype": "text/x-python",
   "name": "python",
   "nbconvert_exporter": "python",
   "pygments_lexer": "ipython3",
   "version": "3.10.4"
  }
 },
 "nbformat": 4,
 "nbformat_minor": 2
}
